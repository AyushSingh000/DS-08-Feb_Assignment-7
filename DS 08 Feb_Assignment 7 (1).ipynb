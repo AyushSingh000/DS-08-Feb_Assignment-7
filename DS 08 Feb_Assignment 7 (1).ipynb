{
 "cells": [
  {
   "cell_type": "code",
   "execution_count": 2,
   "id": "8a0e13c2-295e-4ed5-b340-a6c3a28926c9",
   "metadata": {},
   "outputs": [],
   "source": [
    "# Answer 1\n",
    "'''Abstraction in OOPs refers to hiding the complexities of an object and showing only the essential features to the user. \n",
    "This concept helps in reducing the coupling between the objects, making the code more readable, and reusable.'''\n",
    "# For example\n",
    "class BankAccount:\n",
    "    def __init__(self, balance):\n",
    "        self.balance = balance\n",
    "        \n",
    "    def check_balance(self):\n",
    "        return self.balance\n",
    "    \n",
    "    def deposit(self, amount):\n",
    "        self.balance += amount\n",
    "        return self.balance\n",
    "    \n",
    "    def withdraw(self, amount):\n",
    "        if self.balance >= amount:\n",
    "            self.balance -= amount\n",
    "        else:\n",
    "            print(\"Insufficient balance\")\n",
    "        return self.balance     "
   ]
  },
  {
   "cell_type": "code",
   "execution_count": 3,
   "id": "c242f02e-1d15-4698-9558-66501487b946",
   "metadata": {},
   "outputs": [],
   "source": [
    "# Answer 2\n",
    "# Abstraction \n",
    "class BankAccount:\n",
    "    def __init__(self, balance):\n",
    "        self.balance = balance\n",
    "        \n",
    "    def check_balance(self):\n",
    "        return self.balance\n",
    "    \n",
    "    def deposit(self, amount):\n",
    "        self.balance += amount\n",
    "        return self.balance\n",
    "    \n",
    "    def withdraw(self, amount):\n",
    "        if self.balance >= amount:\n",
    "            self.balance -= amount\n",
    "        else:\n",
    "            print(\"Insufficient balance\")\n",
    "        return self.balance  \n",
    "    \n",
    "# Encapsulation\n",
    "class bank_acounts:\n",
    "    def __init__(self, balance):\n",
    "        self.__balance=balance\n",
    "        \n",
    "    def deposit(self, amount):\n",
    "        self.__balance=self.__balance+amount\n",
    "        \n",
    "    def withdraw(self, amount):\n",
    "        if self.__balance>=amount:\n",
    "            self.__balance=self.__balance-ammount\n",
    "            return true\n",
    "        else:\n",
    "            return false"
   ]
  },
  {
   "cell_type": "code",
   "execution_count": 7,
   "id": "a146f8af-90b4-4072-b154-f5e4c3c6171b",
   "metadata": {},
   "outputs": [],
   "source": [
    "# Answer 3\n",
    "class vehicle:\n",
    "    def __init__(self, name_of_vehicle, max_speed, average_of_vehicle):\n",
    "        self.name_of_vehicle = name_of_vehicle\n",
    "        self.max_speed = max_speed\n",
    "        self.average_of_vehicle = average_of_vehicle\n",
    "\n",
    "class car(vehicle):\n",
    "    def seating_capacity(self, capacity):\n",
    "        return f'{self.name_of_vehicle} has a seating capacity of {capacity} passenger'\n"
   ]
  },
  {
   "cell_type": "code",
   "execution_count": 1,
   "id": "d42b6400-35c7-4ab1-88d3-75cd67f28055",
   "metadata": {},
   "outputs": [
    {
     "data": {
      "text/plain": [
       "'Data abstraction can be achieved in Python through the use of classes and objects. We can define a class that contains properties and methods that are relevant to the abstraction we want to achieve. We can then create objects of the class and use them to access the properties and methods.\\nFor example, we can create a class called \"BankAccount\" that contains properties such as account number, balance, and account holder name, and methods such as deposit, withdraw, and check_balance. We can then create objects of the class and use them to interact with the bank account data, without having to know the implementation details of the class.\\nBy defining classes with relevant properties and methods, and exposing only the necessary functionality to the user, we can achieve data abstraction and protect the implementation details of our program.'"
      ]
     },
     "execution_count": 1,
     "metadata": {},
     "output_type": "execute_result"
    }
   ],
   "source": [
    "# Answer 4\n",
    "'''Data abstraction can be achieved in Python through the use of classes and objects. We can define a class that contains properties and methods that are relevant to the abstraction we want to achieve. We can then create objects of the class and use them to access the properties and methods.\n",
    "For example, we can create a class called \"BankAccount\" that contains properties such as account number, balance, and account holder name, and methods such as deposit, withdraw, and check_balance. We can then create objects of the class and use them to interact with the bank account data, without having to know the implementation details of the class.\n",
    "By defining classes with relevant properties and methods, and exposing only the necessary functionality to the user, we can achieve data abstraction and protect the implementation details of our program.'''"
   ]
  },
  {
   "cell_type": "code",
   "execution_count": 2,
   "id": "73fc6573-05f7-42a5-b119-088b820371be",
   "metadata": {},
   "outputs": [
    {
     "data": {
      "text/plain": [
       "'No, we cannot create an instance of an abstract class. Abstract classes are designed to serve as a blueprint for subclasses to be created and cannot be instantiated on their own. \\nThey contain abstract methods, which do not have any implementation and are meant to be overridden by the subclasses. \\nIt is only the concrete subclasses that can be instantiated and provide the implementation for the abstract methods. \\nTrying to create an instance of an abstract class in Python will result in a TypeError.'"
      ]
     },
     "execution_count": 2,
     "metadata": {},
     "output_type": "execute_result"
    }
   ],
   "source": [
    "# Answer 5\n",
    "'''No, we cannot create an instance of an abstract class. Abstract classes are designed to serve as a blueprint for subclasses to be created and cannot be instantiated on their own. \n",
    "They contain abstract methods, which do not have any implementation and are meant to be overridden by the subclasses. \n",
    "It is only the concrete subclasses that can be instantiated and provide the implementation for the abstract methods. \n",
    "Trying to create an instance of an abstract class in Python will result in a TypeError.'''"
   ]
  },
  {
   "cell_type": "code",
   "execution_count": null,
   "id": "cfe55ec6-3b15-4494-9e5f-b86ee21d0f03",
   "metadata": {},
   "outputs": [],
   "source": []
  },
  {
   "cell_type": "code",
   "execution_count": null,
   "id": "5b7664e2-d0bb-443f-8096-58718977b775",
   "metadata": {},
   "outputs": [],
   "source": []
  }
 ],
 "metadata": {
  "kernelspec": {
   "display_name": "Python 3 (ipykernel)",
   "language": "python",
   "name": "python3"
  },
  "language_info": {
   "codemirror_mode": {
    "name": "ipython",
    "version": 3
   },
   "file_extension": ".py",
   "mimetype": "text/x-python",
   "name": "python",
   "nbconvert_exporter": "python",
   "pygments_lexer": "ipython3",
   "version": "3.10.8"
  }
 },
 "nbformat": 4,
 "nbformat_minor": 5
}
